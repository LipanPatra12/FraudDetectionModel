{
 "cells": [
  {
   "cell_type": "code",
   "execution_count": 1,
   "id": "df39e5ac",
   "metadata": {},
   "outputs": [],
   "source": [
    "import os\n",
    "import numpy as np\n",
    "import pandas as pd\n",
    "import matplotlib.pyplot as plt\n",
    "import seaborn as sns\n",
    "sns.set()\n",
    "%matplotlib inline\n",
    "import warnings\n",
    "warnings.filterwarnings(\"ignore\")\n",
    "import sklearn\n",
    "from sklearn.model_selection import train_test_split"
   ]
  },
  {
   "cell_type": "code",
   "execution_count": 2,
   "id": "30459959",
   "metadata": {},
   "outputs": [],
   "source": [
    "geo = pd.read_csv(\"Geo_scores.csv\")\n",
    "instance = pd.read_csv(\"instance_scores.csv\")\n",
    "lmbda = pd.read_csv(\"Lambda_wts.csv\")\n",
    "qset = pd.read_csv(\"Qset_tats.csv\")\n",
    "test = pd.read_csv(\"test_share.csv\")\n",
    "train = pd.read_csv(\"trainx.csv\")"
   ]
  },
  {
   "cell_type": "code",
   "execution_count": 3,
   "id": "9871c4ef",
   "metadata": {},
   "outputs": [
    {
     "name": "stdout",
     "output_type": "stream",
     "text": [
      "(1424035, 2)\n",
      "******************\n",
      "(1424035, 2)\n",
      "******************\n",
      "(1400, 2)\n",
      "******************\n",
      "(1424035, 2)\n",
      "******************\n",
      "(56962, 27)\n",
      "******************\n",
      "(227845, 28)\n",
      "******************\n"
     ]
    }
   ],
   "source": [
    "print(geo.shape)\n",
    "print(\"******************\")\n",
    "print(instance.shape)\n",
    "print(\"******************\")\n",
    "print(lmbda.shape)\n",
    "print(\"******************\")\n",
    "print(qset.shape)\n",
    "print(\"******************\")\n",
    "print(test.shape)\n",
    "print(\"******************\")\n",
    "print(train.shape)\n",
    "print(\"******************\")"
   ]
  },
  {
   "cell_type": "code",
   "execution_count": 4,
   "id": "972d5ad7",
   "metadata": {},
   "outputs": [
    {
     "name": "stdout",
     "output_type": "stream",
     "text": [
      "<class 'pandas.core.frame.DataFrame'>\n",
      "RangeIndex: 1424035 entries, 0 to 1424034\n",
      "Data columns (total 2 columns):\n",
      " #   Column     Non-Null Count    Dtype  \n",
      "---  ------     --------------    -----  \n",
      " 0   id         1424035 non-null  int64  \n",
      " 1   geo_score  1352492 non-null  float64\n",
      "dtypes: float64(1), int64(1)\n",
      "memory usage: 21.7 MB\n",
      "None\n",
      "******************\n",
      "<class 'pandas.core.frame.DataFrame'>\n",
      "RangeIndex: 1424035 entries, 0 to 1424034\n",
      "Data columns (total 2 columns):\n",
      " #   Column           Non-Null Count    Dtype  \n",
      "---  ------           --------------    -----  \n",
      " 0   id               1424035 non-null  int64  \n",
      " 1   instance_scores  1424035 non-null  float64\n",
      "dtypes: float64(1), int64(1)\n",
      "memory usage: 21.7 MB\n",
      "None\n",
      "******************\n",
      "<class 'pandas.core.frame.DataFrame'>\n",
      "RangeIndex: 1400 entries, 0 to 1399\n",
      "Data columns (total 2 columns):\n",
      " #   Column     Non-Null Count  Dtype  \n",
      "---  ------     --------------  -----  \n",
      " 0   Group      1400 non-null   object \n",
      " 1   lambda_wt  1400 non-null   float64\n",
      "dtypes: float64(1), object(1)\n",
      "memory usage: 22.0+ KB\n",
      "None\n",
      "******************\n",
      "<class 'pandas.core.frame.DataFrame'>\n",
      "RangeIndex: 1424035 entries, 0 to 1424034\n",
      "Data columns (total 2 columns):\n",
      " #   Column                Non-Null Count    Dtype  \n",
      "---  ------                --------------    -----  \n",
      " 0   id                    1424035 non-null  int64  \n",
      " 1   qsets_normalized_tat  1320834 non-null  float64\n",
      "dtypes: float64(1), int64(1)\n",
      "memory usage: 21.7 MB\n",
      "None\n",
      "******************\n",
      "<class 'pandas.core.frame.DataFrame'>\n",
      "RangeIndex: 56962 entries, 0 to 56961\n",
      "Data columns (total 27 columns):\n",
      " #   Column          Non-Null Count  Dtype  \n",
      "---  ------          --------------  -----  \n",
      " 0   id              56962 non-null  int64  \n",
      " 1   Group           56962 non-null  object \n",
      " 2   Per1            56962 non-null  float64\n",
      " 3   Per2            56962 non-null  float64\n",
      " 4   Per3            56962 non-null  float64\n",
      " 5   Per4            56962 non-null  float64\n",
      " 6   Per5            56962 non-null  float64\n",
      " 7   Per6            56962 non-null  float64\n",
      " 8   Per7            56962 non-null  float64\n",
      " 9   Per8            56962 non-null  float64\n",
      " 10  Per9            56962 non-null  float64\n",
      " 11  Dem1            56962 non-null  float64\n",
      " 12  Dem2            56962 non-null  float64\n",
      " 13  Dem3            56962 non-null  float64\n",
      " 14  Dem4            56962 non-null  float64\n",
      " 15  Dem5            56962 non-null  float64\n",
      " 16  Dem6            56962 non-null  float64\n",
      " 17  Dem7            56962 non-null  float64\n",
      " 18  Dem8            56962 non-null  float64\n",
      " 19  Dem9            56962 non-null  float64\n",
      " 20  Cred1           56962 non-null  float64\n",
      " 21  Cred2           56962 non-null  float64\n",
      " 22  Cred3           56962 non-null  float64\n",
      " 23  Cred4           56962 non-null  float64\n",
      " 24  Cred5           56962 non-null  float64\n",
      " 25  Cred6           56962 non-null  float64\n",
      " 26  Normalised_FNT  56962 non-null  float64\n",
      "dtypes: float64(25), int64(1), object(1)\n",
      "memory usage: 11.7+ MB\n",
      "None\n",
      "******************\n",
      "<class 'pandas.core.frame.DataFrame'>\n",
      "RangeIndex: 227845 entries, 0 to 227844\n",
      "Data columns (total 28 columns):\n",
      " #   Column          Non-Null Count   Dtype  \n",
      "---  ------          --------------   -----  \n",
      " 0   id              227845 non-null  int64  \n",
      " 1   Group           227845 non-null  object \n",
      " 2   Per1            227845 non-null  float64\n",
      " 3   Per2            227845 non-null  float64\n",
      " 4   Per3            227845 non-null  float64\n",
      " 5   Per4            227845 non-null  float64\n",
      " 6   Per5            227845 non-null  float64\n",
      " 7   Per6            227845 non-null  float64\n",
      " 8   Per7            227845 non-null  float64\n",
      " 9   Per8            227845 non-null  float64\n",
      " 10  Per9            227845 non-null  float64\n",
      " 11  Dem1            227845 non-null  float64\n",
      " 12  Dem2            227845 non-null  float64\n",
      " 13  Dem3            227845 non-null  float64\n",
      " 14  Dem4            227845 non-null  float64\n",
      " 15  Dem5            227845 non-null  float64\n",
      " 16  Dem6            227845 non-null  float64\n",
      " 17  Dem7            227845 non-null  float64\n",
      " 18  Dem8            227845 non-null  float64\n",
      " 19  Dem9            227845 non-null  float64\n",
      " 20  Cred1           227845 non-null  float64\n",
      " 21  Cred2           227845 non-null  float64\n",
      " 22  Cred3           227845 non-null  float64\n",
      " 23  Cred4           227845 non-null  float64\n",
      " 24  Cred5           227845 non-null  float64\n",
      " 25  Cred6           227845 non-null  float64\n",
      " 26  Normalised_FNT  227845 non-null  float64\n",
      " 27  Target          227845 non-null  int64  \n",
      "dtypes: float64(25), int64(2), object(1)\n",
      "memory usage: 48.7+ MB\n",
      "None\n",
      "******************\n"
     ]
    }
   ],
   "source": [
    "print(geo.info())\n",
    "print(\"******************\")\n",
    "print(instance.info())\n",
    "print(\"******************\")\n",
    "print(lmbda.info())\n",
    "print(\"******************\")\n",
    "print(qset.info())\n",
    "print(\"******************\")\n",
    "print(test.info())\n",
    "print(\"******************\")\n",
    "print(train.info())\n",
    "print(\"******************\")"
   ]
  },
  {
   "cell_type": "code",
   "execution_count": 5,
   "id": "ee07e3aa",
   "metadata": {},
   "outputs": [
    {
     "name": "stdout",
     "output_type": "stream",
     "text": [
      "id               0\n",
      "geo_score    71543\n",
      "dtype: int64\n",
      "******************\n",
      "id                 0\n",
      "instance_scores    0\n",
      "dtype: int64\n",
      "******************\n",
      "Group        0\n",
      "lambda_wt    0\n",
      "dtype: int64\n",
      "******************\n",
      "id                           0\n",
      "qsets_normalized_tat    103201\n",
      "dtype: int64\n",
      "******************\n",
      "id                0\n",
      "Group             0\n",
      "Per1              0\n",
      "Per2              0\n",
      "Per3              0\n",
      "Per4              0\n",
      "Per5              0\n",
      "Per6              0\n",
      "Per7              0\n",
      "Per8              0\n",
      "Per9              0\n",
      "Dem1              0\n",
      "Dem2              0\n",
      "Dem3              0\n",
      "Dem4              0\n",
      "Dem5              0\n",
      "Dem6              0\n",
      "Dem7              0\n",
      "Dem8              0\n",
      "Dem9              0\n",
      "Cred1             0\n",
      "Cred2             0\n",
      "Cred3             0\n",
      "Cred4             0\n",
      "Cred5             0\n",
      "Cred6             0\n",
      "Normalised_FNT    0\n",
      "dtype: int64\n",
      "******************\n",
      "id                0\n",
      "Group             0\n",
      "Per1              0\n",
      "Per2              0\n",
      "Per3              0\n",
      "Per4              0\n",
      "Per5              0\n",
      "Per6              0\n",
      "Per7              0\n",
      "Per8              0\n",
      "Per9              0\n",
      "Dem1              0\n",
      "Dem2              0\n",
      "Dem3              0\n",
      "Dem4              0\n",
      "Dem5              0\n",
      "Dem6              0\n",
      "Dem7              0\n",
      "Dem8              0\n",
      "Dem9              0\n",
      "Cred1             0\n",
      "Cred2             0\n",
      "Cred3             0\n",
      "Cred4             0\n",
      "Cred5             0\n",
      "Cred6             0\n",
      "Normalised_FNT    0\n",
      "Target            0\n",
      "dtype: int64\n",
      "******************\n"
     ]
    }
   ],
   "source": [
    "print(geo.isnull().sum())\n",
    "print(\"******************\")\n",
    "print(instance.isnull().sum())\n",
    "print(\"******************\")\n",
    "print(lmbda.isnull().sum())\n",
    "print(\"******************\")\n",
    "print(qset.isnull().sum())\n",
    "print(\"******************\")\n",
    "print(test.isnull().sum())\n",
    "print(\"******************\")\n",
    "print(train.isnull().sum())\n",
    "print(\"******************\")"
   ]
  },
  {
   "cell_type": "code",
   "execution_count": 6,
   "id": "37fef237",
   "metadata": {},
   "outputs": [
    {
     "name": "stdout",
     "output_type": "stream",
     "text": [
      "       id  geo_score\n",
      "0   26674       4.48\n",
      "1  204314       4.48\n",
      "******************\n",
      "       id  instance_scores\n",
      "0  173444            -0.88\n",
      "1  259378             1.50\n",
      "******************\n",
      "    Group  lambda_wt\n",
      "0  Grp936       3.41\n",
      "1  Grp347      -2.88\n",
      "******************\n",
      "       id  qsets_normalized_tat\n",
      "0    9983                  2.41\n",
      "1  266000                  3.10\n",
      "******************\n",
      "       id   Group      Per1      Per2  Per3      Per4  Per5      Per6  Per7  \\\n",
      "0  146574  Grp229 -0.300000  1.540000  0.22 -0.280000  0.57  0.260000  0.70   \n",
      "1  268759  Grp141  0.633333  0.953333  0.81  0.466667  0.91  0.253333  1.04   \n",
      "\n",
      "       Per8  ...      Dem7      Dem8      Dem9     Cred1     Cred2     Cred3  \\\n",
      "0  1.076667  ...  0.786667  0.546667  0.313333  0.703333  0.813333  0.776667   \n",
      "1  0.550000  ...  0.636667  0.770000  0.993333  0.536667  0.703333  0.806667   \n",
      "\n",
      "      Cred4     Cred5     Cred6  Normalised_FNT  \n",
      "0  0.796667  0.823333  0.783333       -249.7500  \n",
      "1  0.630000  0.673333  0.673333       -249.8125  \n",
      "\n",
      "[2 rows x 27 columns]\n",
      "******************\n",
      "       id   Group      Per1      Per2      Per3      Per4      Per5      Per6  \\\n",
      "0  112751  Grp169  1.070000  0.580000  0.480000  0.766667  1.233333  1.993333   \n",
      "1   18495  Grp161  0.473333  1.206667  0.883333  1.430000  0.726667  0.626667   \n",
      "\n",
      "   Per7      Per8  ...      Dem8      Dem9     Cred1  Cred2     Cred3  \\\n",
      "0  0.34  1.010000  ...  0.680000  0.726667  0.606667   1.01  0.933333   \n",
      "1  0.81  0.783333  ...  0.716667  0.743333  0.680000   0.69  0.560000   \n",
      "\n",
      "      Cred4     Cred5     Cred6  Normalised_FNT  Target  \n",
      "0  0.603333  0.686667  0.673333         -245.75       0  \n",
      "1  0.670000  0.553333  0.653333         -248.00       0  \n",
      "\n",
      "[2 rows x 28 columns]\n",
      "******************\n"
     ]
    }
   ],
   "source": [
    "print(geo.head(2))\n",
    "print(\"******************\")\n",
    "print(instance.head(2))\n",
    "print(\"******************\")\n",
    "print(lmbda.head(2))\n",
    "print(\"******************\")\n",
    "print(qset.head(2))\n",
    "print(\"******************\")\n",
    "print(test.head(2))\n",
    "print(\"******************\")\n",
    "print(train.head(2))\n",
    "print(\"******************\")"
   ]
  },
  {
   "cell_type": "code",
   "execution_count": 7,
   "id": "003fb5f6",
   "metadata": {},
   "outputs": [
    {
     "name": "stdout",
     "output_type": "stream",
     "text": [
      "*******************Unique ID to the customer****************\n",
      "geo 284807\n",
      "******************\n",
      "instance 284807\n",
      "******************\n",
      "qset 284807\n",
      "******************\n",
      "test 56962\n",
      "******************\n",
      "train 227845\n",
      "******************\n",
      "*******************Unique Group to the customer****************\n",
      "******************\n",
      "lmbda 1400\n",
      "******************\n",
      "test 915\n",
      "******************\n",
      "train 1301\n",
      "******************\n"
     ]
    }
   ],
   "source": [
    "print(\"*******************Unique ID to the customer****************\")\n",
    "print(\"geo\",geo['id'].nunique())\n",
    "print(\"******************\")\n",
    "print(\"instance\", instance['id'].nunique())\n",
    "print(\"******************\")\n",
    "print(\"qset\",qset['id'].nunique())\n",
    "print(\"******************\")\n",
    "print(\"test\", test['id'].nunique())\n",
    "print(\"******************\")\n",
    "print(\"train\",train['id'].nunique())\n",
    "print(\"******************\")\n",
    "print(\"*******************Unique Group to the customer****************\")\n",
    "print(\"******************\")\n",
    "print(\"lmbda\",lmbda['Group'].nunique())\n",
    "print(\"******************\")\n",
    "print(\"test\",test['Group'].nunique())\n",
    "print(\"******************\")\n",
    "print(\"train\",train['Group'].nunique())\n",
    "print(\"******************\")"
   ]
  },
  {
   "cell_type": "code",
   "execution_count": 8,
   "id": "c3869e29",
   "metadata": {},
   "outputs": [
    {
     "name": "stdout",
     "output_type": "stream",
     "text": [
      "id           0.000000\n",
      "geo_score    5.023964\n",
      "dtype: float64\n",
      "******************\n",
      "id                      0.000000\n",
      "qsets_normalized_tat    7.247083\n",
      "dtype: float64\n"
     ]
    }
   ],
   "source": [
    "print(geo.isnull().sum()/len(geo)*100)\n",
    "print(\"******************\")\n",
    "print(qset.isnull().sum()/len(qset)*100)"
   ]
  },
  {
   "cell_type": "code",
   "execution_count": 9,
   "id": "cf598f08",
   "metadata": {},
   "outputs": [
    {
     "data": {
      "text/plain": [
       "<AxesSubplot:ylabel='geo_score'>"
      ]
     },
     "execution_count": 9,
     "metadata": {},
     "output_type": "execute_result"
    },
    {
     "data": {
      "image/png": "[encoded data removed]",
      "text/plain": [
       "<Figure size 432x288 with 1 Axes>"
      ]
     },
     "metadata": {
      "needs_background": "light"
     },
     "output_type": "display_data"
    }
   ],
   "source": [
    "sns.boxplot(y='geo_score', data=geo)"
   ]
  },
  {
   "cell_type": "code",
   "execution_count": 10,
   "id": "af3b15ee",
   "metadata": {},
   "outputs": [
    {
     "data": {
      "text/plain": [
       "<AxesSubplot:ylabel='qsets_normalized_tat'>"
      ]
     },
     "execution_count": 10,
     "metadata": {},
     "output_type": "execute_result"
    },
    {
     "data": {
      "image/png": "[encoded data removed]",
      "text/plain": [
       "<Figure size 432x288 with 1 Axes>"
      ]
     },
     "metadata": {
      "needs_background": "light"
     },
     "output_type": "display_data"
    }
   ],
   "source": [
    "sns.boxplot(y=\"qsets_normalized_tat\", data=qset)"
   ]
  },
  {
   "cell_type": "code",
   "execution_count": 11,
   "id": "035c4d70",
   "metadata": {},
   "outputs": [],
   "source": [
    "geo['geo_score'] = geo['geo_score'].fillna(geo['geo_score'].median())\n",
    "qset['qsets_normalized_tat'] = qset['qsets_normalized_tat'].fillna(qset['qsets_normalized_tat'].median())"
   ]
  },
  {
   "cell_type": "code",
   "execution_count": 12,
   "id": "c19a0423",
   "metadata": {},
   "outputs": [
    {
     "name": "stdout",
     "output_type": "stream",
     "text": [
      "id           0.0\n",
      "geo_score    0.0\n",
      "dtype: float64\n",
      "******************\n",
      "id                      0.0\n",
      "qsets_normalized_tat    0.0\n",
      "dtype: float64\n"
     ]
    }
   ],
   "source": [
    "print(geo.isnull().sum()/len(geo)*100)\n",
    "print(\"******************\")\n",
    "print(qset.isnull().sum()/len(qset)*100)"
   ]
  },
  {
   "cell_type": "code",
   "execution_count": 13,
   "id": "561ba261",
   "metadata": {},
   "outputs": [
    {
     "data": {
      "text/plain": [
       "0    227451\n",
       "1       394\n",
       "Name: Target, dtype: int64"
      ]
     },
     "execution_count": 13,
     "metadata": {},
     "output_type": "execute_result"
    }
   ],
   "source": [
    "train['Target'].value_counts()"
   ]
  },
  {
   "cell_type": "code",
   "execution_count": 14,
   "id": "3db84664",
   "metadata": {},
   "outputs": [],
   "source": [
    "train['data'] = 'train'\n",
    "test['data'] = 'test'"
   ]
  },
  {
   "cell_type": "code",
   "execution_count": 15,
   "id": "1c9ee120",
   "metadata": {},
   "outputs": [
    {
     "data": {
      "text/html": [
       "<div>\n",
       "<style scoped>\n",
       "    .dataframe tbody tr th:only-of-type {\n",
       "        vertical-align: middle;\n",
       "    }\n",
       "\n",
       "    .dataframe tbody tr th {\n",
       "        vertical-align: top;\n",
       "    }\n",
       "\n",
       "    .dataframe thead th {\n",
       "        text-align: right;\n",
       "    }\n",
       "</style>\n",
       "<table border=\"1\" class=\"dataframe\">\n",
       "  <thead>\n",
       "    <tr style=\"text-align: right;\">\n",
       "      <th></th>\n",
       "      <th>id</th>\n",
       "      <th>Group</th>\n",
       "      <th>Per1</th>\n",
       "      <th>Per2</th>\n",
       "      <th>Per3</th>\n",
       "      <th>Per4</th>\n",
       "      <th>Per5</th>\n",
       "      <th>Per6</th>\n",
       "      <th>Per7</th>\n",
       "      <th>Per8</th>\n",
       "      <th>...</th>\n",
       "      <th>Dem9</th>\n",
       "      <th>Cred1</th>\n",
       "      <th>Cred2</th>\n",
       "      <th>Cred3</th>\n",
       "      <th>Cred4</th>\n",
       "      <th>Cred5</th>\n",
       "      <th>Cred6</th>\n",
       "      <th>Normalised_FNT</th>\n",
       "      <th>Target</th>\n",
       "      <th>data</th>\n",
       "    </tr>\n",
       "  </thead>\n",
       "  <tbody>\n",
       "    <tr>\n",
       "      <th>0</th>\n",
       "      <td>112751</td>\n",
       "      <td>Grp169</td>\n",
       "      <td>1.070000</td>\n",
       "      <td>0.580000</td>\n",
       "      <td>0.480000</td>\n",
       "      <td>0.766667</td>\n",
       "      <td>1.233333</td>\n",
       "      <td>1.993333</td>\n",
       "      <td>0.34</td>\n",
       "      <td>1.010000</td>\n",
       "      <td>...</td>\n",
       "      <td>0.726667</td>\n",
       "      <td>0.606667</td>\n",
       "      <td>1.01</td>\n",
       "      <td>0.933333</td>\n",
       "      <td>0.603333</td>\n",
       "      <td>0.686667</td>\n",
       "      <td>0.673333</td>\n",
       "      <td>-245.75</td>\n",
       "      <td>0</td>\n",
       "      <td>train</td>\n",
       "    </tr>\n",
       "    <tr>\n",
       "      <th>1</th>\n",
       "      <td>18495</td>\n",
       "      <td>Grp161</td>\n",
       "      <td>0.473333</td>\n",
       "      <td>1.206667</td>\n",
       "      <td>0.883333</td>\n",
       "      <td>1.430000</td>\n",
       "      <td>0.726667</td>\n",
       "      <td>0.626667</td>\n",
       "      <td>0.81</td>\n",
       "      <td>0.783333</td>\n",
       "      <td>...</td>\n",
       "      <td>0.743333</td>\n",
       "      <td>0.680000</td>\n",
       "      <td>0.69</td>\n",
       "      <td>0.560000</td>\n",
       "      <td>0.670000</td>\n",
       "      <td>0.553333</td>\n",
       "      <td>0.653333</td>\n",
       "      <td>-248.00</td>\n",
       "      <td>0</td>\n",
       "      <td>train</td>\n",
       "    </tr>\n",
       "  </tbody>\n",
       "</table>\n",
       "<p>2 rows × 29 columns</p>\n",
       "</div>"
      ],
      "text/plain": [
       "       id   Group      Per1      Per2      Per3      Per4      Per5      Per6  \\\n",
       "0  112751  Grp169  1.070000  0.580000  0.480000  0.766667  1.233333  1.993333   \n",
       "1   18495  Grp161  0.473333  1.206667  0.883333  1.430000  0.726667  0.626667   \n",
       "\n",
       "   Per7      Per8  ...      Dem9     Cred1  Cred2     Cred3     Cred4  \\\n",
       "0  0.34  1.010000  ...  0.726667  0.606667   1.01  0.933333  0.603333   \n",
       "1  0.81  0.783333  ...  0.743333  0.680000   0.69  0.560000  0.670000   \n",
       "\n",
       "      Cred5     Cred6  Normalised_FNT  Target   data  \n",
       "0  0.686667  0.673333         -245.75       0  train  \n",
       "1  0.553333  0.653333         -248.00       0  train  \n",
       "\n",
       "[2 rows x 29 columns]"
      ]
     },
     "execution_count": 15,
     "metadata": {},
     "output_type": "execute_result"
    }
   ],
   "source": [
    "train.head(2)"
   ]
  },
  {
   "cell_type": "code",
   "execution_count": 16,
   "id": "8a387730",
   "metadata": {},
   "outputs": [
    {
     "data": {
      "text/html": [
       "<div>\n",
       "<style scoped>\n",
       "    .dataframe tbody tr th:only-of-type {\n",
       "        vertical-align: middle;\n",
       "    }\n",
       "\n",
       "    .dataframe tbody tr th {\n",
       "        vertical-align: top;\n",
       "    }\n",
       "\n",
       "    .dataframe thead th {\n",
       "        text-align: right;\n",
       "    }\n",
       "</style>\n",
       "<table border=\"1\" class=\"dataframe\">\n",
       "  <thead>\n",
       "    <tr style=\"text-align: right;\">\n",
       "      <th></th>\n",
       "      <th>id</th>\n",
       "      <th>Group</th>\n",
       "      <th>Per1</th>\n",
       "      <th>Per2</th>\n",
       "      <th>Per3</th>\n",
       "      <th>Per4</th>\n",
       "      <th>Per5</th>\n",
       "      <th>Per6</th>\n",
       "      <th>Per7</th>\n",
       "      <th>Per8</th>\n",
       "      <th>...</th>\n",
       "      <th>Dem8</th>\n",
       "      <th>Dem9</th>\n",
       "      <th>Cred1</th>\n",
       "      <th>Cred2</th>\n",
       "      <th>Cred3</th>\n",
       "      <th>Cred4</th>\n",
       "      <th>Cred5</th>\n",
       "      <th>Cred6</th>\n",
       "      <th>Normalised_FNT</th>\n",
       "      <th>data</th>\n",
       "    </tr>\n",
       "  </thead>\n",
       "  <tbody>\n",
       "    <tr>\n",
       "      <th>0</th>\n",
       "      <td>146574</td>\n",
       "      <td>Grp229</td>\n",
       "      <td>-0.300000</td>\n",
       "      <td>1.540000</td>\n",
       "      <td>0.22</td>\n",
       "      <td>-0.280000</td>\n",
       "      <td>0.57</td>\n",
       "      <td>0.260000</td>\n",
       "      <td>0.70</td>\n",
       "      <td>1.076667</td>\n",
       "      <td>...</td>\n",
       "      <td>0.546667</td>\n",
       "      <td>0.313333</td>\n",
       "      <td>0.703333</td>\n",
       "      <td>0.813333</td>\n",
       "      <td>0.776667</td>\n",
       "      <td>0.796667</td>\n",
       "      <td>0.823333</td>\n",
       "      <td>0.783333</td>\n",
       "      <td>-249.7500</td>\n",
       "      <td>test</td>\n",
       "    </tr>\n",
       "    <tr>\n",
       "      <th>1</th>\n",
       "      <td>268759</td>\n",
       "      <td>Grp141</td>\n",
       "      <td>0.633333</td>\n",
       "      <td>0.953333</td>\n",
       "      <td>0.81</td>\n",
       "      <td>0.466667</td>\n",
       "      <td>0.91</td>\n",
       "      <td>0.253333</td>\n",
       "      <td>1.04</td>\n",
       "      <td>0.550000</td>\n",
       "      <td>...</td>\n",
       "      <td>0.770000</td>\n",
       "      <td>0.993333</td>\n",
       "      <td>0.536667</td>\n",
       "      <td>0.703333</td>\n",
       "      <td>0.806667</td>\n",
       "      <td>0.630000</td>\n",
       "      <td>0.673333</td>\n",
       "      <td>0.673333</td>\n",
       "      <td>-249.8125</td>\n",
       "      <td>test</td>\n",
       "    </tr>\n",
       "  </tbody>\n",
       "</table>\n",
       "<p>2 rows × 28 columns</p>\n",
       "</div>"
      ],
      "text/plain": [
       "       id   Group      Per1      Per2  Per3      Per4  Per5      Per6  Per7  \\\n",
       "0  146574  Grp229 -0.300000  1.540000  0.22 -0.280000  0.57  0.260000  0.70   \n",
       "1  268759  Grp141  0.633333  0.953333  0.81  0.466667  0.91  0.253333  1.04   \n",
       "\n",
       "       Per8  ...      Dem8      Dem9     Cred1     Cred2     Cred3     Cred4  \\\n",
       "0  1.076667  ...  0.546667  0.313333  0.703333  0.813333  0.776667  0.796667   \n",
       "1  0.550000  ...  0.770000  0.993333  0.536667  0.703333  0.806667  0.630000   \n",
       "\n",
       "      Cred5     Cred6  Normalised_FNT  data  \n",
       "0  0.823333  0.783333       -249.7500  test  \n",
       "1  0.673333  0.673333       -249.8125  test  \n",
       "\n",
       "[2 rows x 28 columns]"
      ]
     },
     "execution_count": 16,
     "metadata": {},
     "output_type": "execute_result"
    }
   ],
   "source": [
    "test.head(2)"
   ]
  },
  {
   "cell_type": "code",
   "execution_count": 17,
   "id": "3e07517c",
   "metadata": {},
   "outputs": [],
   "source": [
    "# add both the table together\n",
    "all_data = pd.concat([train, test],axis=0)"
   ]
  },
  {
   "cell_type": "code",
   "execution_count": 18,
   "id": "951aa4ef",
   "metadata": {},
   "outputs": [
    {
     "data": {
      "text/plain": [
       "(284807, 29)"
      ]
     },
     "execution_count": 18,
     "metadata": {},
     "output_type": "execute_result"
    }
   ],
   "source": [
    "all_data.shape"
   ]
  },
  {
   "cell_type": "code",
   "execution_count": 19,
   "id": "5837ae85",
   "metadata": {},
   "outputs": [
    {
     "data": {
      "text/html": [
       "<div>\n",
       "<style scoped>\n",
       "    .dataframe tbody tr th:only-of-type {\n",
       "        vertical-align: middle;\n",
       "    }\n",
       "\n",
       "    .dataframe tbody tr th {\n",
       "        vertical-align: top;\n",
       "    }\n",
       "\n",
       "    .dataframe thead th {\n",
       "        text-align: right;\n",
       "    }\n",
       "</style>\n",
       "<table border=\"1\" class=\"dataframe\">\n",
       "  <thead>\n",
       "    <tr style=\"text-align: right;\">\n",
       "      <th></th>\n",
       "      <th>id</th>\n",
       "      <th>Group</th>\n",
       "      <th>Per1</th>\n",
       "      <th>Per2</th>\n",
       "      <th>Per3</th>\n",
       "      <th>Per4</th>\n",
       "      <th>Per5</th>\n",
       "      <th>Per6</th>\n",
       "      <th>Per7</th>\n",
       "      <th>Per8</th>\n",
       "      <th>...</th>\n",
       "      <th>Dem9</th>\n",
       "      <th>Cred1</th>\n",
       "      <th>Cred2</th>\n",
       "      <th>Cred3</th>\n",
       "      <th>Cred4</th>\n",
       "      <th>Cred5</th>\n",
       "      <th>Cred6</th>\n",
       "      <th>Normalised_FNT</th>\n",
       "      <th>Target</th>\n",
       "      <th>data</th>\n",
       "    </tr>\n",
       "  </thead>\n",
       "  <tbody>\n",
       "    <tr>\n",
       "      <th>0</th>\n",
       "      <td>112751</td>\n",
       "      <td>Grp169</td>\n",
       "      <td>1.070000</td>\n",
       "      <td>0.580000</td>\n",
       "      <td>0.480000</td>\n",
       "      <td>0.766667</td>\n",
       "      <td>1.233333</td>\n",
       "      <td>1.993333</td>\n",
       "      <td>0.340000</td>\n",
       "      <td>1.010000</td>\n",
       "      <td>...</td>\n",
       "      <td>0.726667</td>\n",
       "      <td>0.606667</td>\n",
       "      <td>1.010000</td>\n",
       "      <td>0.933333</td>\n",
       "      <td>0.603333</td>\n",
       "      <td>0.686667</td>\n",
       "      <td>0.673333</td>\n",
       "      <td>-245.7500</td>\n",
       "      <td>0.0</td>\n",
       "      <td>train</td>\n",
       "    </tr>\n",
       "    <tr>\n",
       "      <th>1</th>\n",
       "      <td>18495</td>\n",
       "      <td>Grp161</td>\n",
       "      <td>0.473333</td>\n",
       "      <td>1.206667</td>\n",
       "      <td>0.883333</td>\n",
       "      <td>1.430000</td>\n",
       "      <td>0.726667</td>\n",
       "      <td>0.626667</td>\n",
       "      <td>0.810000</td>\n",
       "      <td>0.783333</td>\n",
       "      <td>...</td>\n",
       "      <td>0.743333</td>\n",
       "      <td>0.680000</td>\n",
       "      <td>0.690000</td>\n",
       "      <td>0.560000</td>\n",
       "      <td>0.670000</td>\n",
       "      <td>0.553333</td>\n",
       "      <td>0.653333</td>\n",
       "      <td>-248.0000</td>\n",
       "      <td>0.0</td>\n",
       "      <td>train</td>\n",
       "    </tr>\n",
       "    <tr>\n",
       "      <th>2</th>\n",
       "      <td>23915</td>\n",
       "      <td>Grp261</td>\n",
       "      <td>1.130000</td>\n",
       "      <td>0.143333</td>\n",
       "      <td>0.946667</td>\n",
       "      <td>0.123333</td>\n",
       "      <td>0.080000</td>\n",
       "      <td>0.836667</td>\n",
       "      <td>0.056667</td>\n",
       "      <td>0.756667</td>\n",
       "      <td>...</td>\n",
       "      <td>0.820000</td>\n",
       "      <td>0.600000</td>\n",
       "      <td>0.383333</td>\n",
       "      <td>0.763333</td>\n",
       "      <td>0.670000</td>\n",
       "      <td>0.686667</td>\n",
       "      <td>0.673333</td>\n",
       "      <td>-233.1250</td>\n",
       "      <td>0.0</td>\n",
       "      <td>train</td>\n",
       "    </tr>\n",
       "    <tr>\n",
       "      <th>3</th>\n",
       "      <td>50806</td>\n",
       "      <td>Grp198</td>\n",
       "      <td>0.636667</td>\n",
       "      <td>1.090000</td>\n",
       "      <td>0.750000</td>\n",
       "      <td>0.940000</td>\n",
       "      <td>0.743333</td>\n",
       "      <td>0.346667</td>\n",
       "      <td>0.956667</td>\n",
       "      <td>0.633333</td>\n",
       "      <td>...</td>\n",
       "      <td>0.900000</td>\n",
       "      <td>0.680000</td>\n",
       "      <td>0.846667</td>\n",
       "      <td>0.423333</td>\n",
       "      <td>0.520000</td>\n",
       "      <td>0.846667</td>\n",
       "      <td>0.760000</td>\n",
       "      <td>-249.7775</td>\n",
       "      <td>0.0</td>\n",
       "      <td>train</td>\n",
       "    </tr>\n",
       "    <tr>\n",
       "      <th>4</th>\n",
       "      <td>184244</td>\n",
       "      <td>Grp228</td>\n",
       "      <td>0.560000</td>\n",
       "      <td>1.013333</td>\n",
       "      <td>0.593333</td>\n",
       "      <td>0.416667</td>\n",
       "      <td>0.773333</td>\n",
       "      <td>0.460000</td>\n",
       "      <td>0.853333</td>\n",
       "      <td>0.796667</td>\n",
       "      <td>...</td>\n",
       "      <td>0.486667</td>\n",
       "      <td>0.693333</td>\n",
       "      <td>0.526667</td>\n",
       "      <td>0.520000</td>\n",
       "      <td>0.716667</td>\n",
       "      <td>0.706667</td>\n",
       "      <td>0.673333</td>\n",
       "      <td>-247.5775</td>\n",
       "      <td>0.0</td>\n",
       "      <td>train</td>\n",
       "    </tr>\n",
       "    <tr>\n",
       "      <th>...</th>\n",
       "      <td>...</td>\n",
       "      <td>...</td>\n",
       "      <td>...</td>\n",
       "      <td>...</td>\n",
       "      <td>...</td>\n",
       "      <td>...</td>\n",
       "      <td>...</td>\n",
       "      <td>...</td>\n",
       "      <td>...</td>\n",
       "      <td>...</td>\n",
       "      <td>...</td>\n",
       "      <td>...</td>\n",
       "      <td>...</td>\n",
       "      <td>...</td>\n",
       "      <td>...</td>\n",
       "      <td>...</td>\n",
       "      <td>...</td>\n",
       "      <td>...</td>\n",
       "      <td>...</td>\n",
       "      <td>...</td>\n",
       "      <td>...</td>\n",
       "    </tr>\n",
       "    <tr>\n",
       "      <th>56957</th>\n",
       "      <td>18333</td>\n",
       "      <td>Grp102</td>\n",
       "      <td>0.553333</td>\n",
       "      <td>1.043333</td>\n",
       "      <td>1.096667</td>\n",
       "      <td>0.686667</td>\n",
       "      <td>0.673333</td>\n",
       "      <td>0.340000</td>\n",
       "      <td>0.900000</td>\n",
       "      <td>0.643333</td>\n",
       "      <td>...</td>\n",
       "      <td>0.433333</td>\n",
       "      <td>0.660000</td>\n",
       "      <td>0.776667</td>\n",
       "      <td>0.610000</td>\n",
       "      <td>0.690000</td>\n",
       "      <td>0.750000</td>\n",
       "      <td>0.700000</td>\n",
       "      <td>-249.5050</td>\n",
       "      <td>NaN</td>\n",
       "      <td>test</td>\n",
       "    </tr>\n",
       "    <tr>\n",
       "      <th>56958</th>\n",
       "      <td>244207</td>\n",
       "      <td>Grp504</td>\n",
       "      <td>1.353333</td>\n",
       "      <td>0.616667</td>\n",
       "      <td>0.276667</td>\n",
       "      <td>0.783333</td>\n",
       "      <td>0.690000</td>\n",
       "      <td>0.650000</td>\n",
       "      <td>0.473333</td>\n",
       "      <td>0.670000</td>\n",
       "      <td>...</td>\n",
       "      <td>0.870000</td>\n",
       "      <td>0.683333</td>\n",
       "      <td>0.690000</td>\n",
       "      <td>0.640000</td>\n",
       "      <td>0.883333</td>\n",
       "      <td>0.663333</td>\n",
       "      <td>0.660000</td>\n",
       "      <td>-248.7525</td>\n",
       "      <td>NaN</td>\n",
       "      <td>test</td>\n",
       "    </tr>\n",
       "    <tr>\n",
       "      <th>56959</th>\n",
       "      <td>103277</td>\n",
       "      <td>Grp78</td>\n",
       "      <td>1.083333</td>\n",
       "      <td>0.433333</td>\n",
       "      <td>0.806667</td>\n",
       "      <td>0.490000</td>\n",
       "      <td>0.243333</td>\n",
       "      <td>0.316667</td>\n",
       "      <td>0.533333</td>\n",
       "      <td>0.606667</td>\n",
       "      <td>...</td>\n",
       "      <td>0.063333</td>\n",
       "      <td>0.753333</td>\n",
       "      <td>0.780000</td>\n",
       "      <td>0.603333</td>\n",
       "      <td>0.880000</td>\n",
       "      <td>0.643333</td>\n",
       "      <td>0.676667</td>\n",
       "      <td>-231.0500</td>\n",
       "      <td>NaN</td>\n",
       "      <td>test</td>\n",
       "    </tr>\n",
       "    <tr>\n",
       "      <th>56960</th>\n",
       "      <td>273294</td>\n",
       "      <td>Grp134</td>\n",
       "      <td>0.566667</td>\n",
       "      <td>1.153333</td>\n",
       "      <td>0.370000</td>\n",
       "      <td>0.616667</td>\n",
       "      <td>0.793333</td>\n",
       "      <td>0.226667</td>\n",
       "      <td>0.910000</td>\n",
       "      <td>0.696667</td>\n",
       "      <td>...</td>\n",
       "      <td>1.026667</td>\n",
       "      <td>0.626667</td>\n",
       "      <td>0.646667</td>\n",
       "      <td>0.566667</td>\n",
       "      <td>0.616667</td>\n",
       "      <td>0.713333</td>\n",
       "      <td>0.706667</td>\n",
       "      <td>-246.3150</td>\n",
       "      <td>NaN</td>\n",
       "      <td>test</td>\n",
       "    </tr>\n",
       "    <tr>\n",
       "      <th>56961</th>\n",
       "      <td>223337</td>\n",
       "      <td>Grp18</td>\n",
       "      <td>1.426667</td>\n",
       "      <td>0.110000</td>\n",
       "      <td>-0.006667</td>\n",
       "      <td>-0.200000</td>\n",
       "      <td>0.983333</td>\n",
       "      <td>1.870000</td>\n",
       "      <td>0.033333</td>\n",
       "      <td>0.963333</td>\n",
       "      <td>...</td>\n",
       "      <td>0.670000</td>\n",
       "      <td>0.770000</td>\n",
       "      <td>0.893333</td>\n",
       "      <td>0.586667</td>\n",
       "      <td>0.616667</td>\n",
       "      <td>0.683333</td>\n",
       "      <td>0.650000</td>\n",
       "      <td>-248.4500</td>\n",
       "      <td>NaN</td>\n",
       "      <td>test</td>\n",
       "    </tr>\n",
       "  </tbody>\n",
       "</table>\n",
       "<p>284807 rows × 29 columns</p>\n",
       "</div>"
      ],
      "text/plain": [
       "           id   Group      Per1      Per2      Per3      Per4      Per5  \\\n",
       "0      112751  Grp169  1.070000  0.580000  0.480000  0.766667  1.233333   \n",
       "1       18495  Grp161  0.473333  1.206667  0.883333  1.430000  0.726667   \n",
       "2       23915  Grp261  1.130000  0.143333  0.946667  0.123333  0.080000   \n",
       "3       50806  Grp198  0.636667  1.090000  0.750000  0.940000  0.743333   \n",
       "4      184244  Grp228  0.560000  1.013333  0.593333  0.416667  0.773333   \n",
       "...       ...     ...       ...       ...       ...       ...       ...   \n",
       "56957   18333  Grp102  0.553333  1.043333  1.096667  0.686667  0.673333   \n",
       "56958  244207  Grp504  1.353333  0.616667  0.276667  0.783333  0.690000   \n",
       "56959  103277   Grp78  1.083333  0.433333  0.806667  0.490000  0.243333   \n",
       "56960  273294  Grp134  0.566667  1.153333  0.370000  0.616667  0.793333   \n",
       "56961  223337   Grp18  1.426667  0.110000 -0.006667 -0.200000  0.983333   \n",
       "\n",
       "           Per6      Per7      Per8  ...      Dem9     Cred1     Cred2  \\\n",
       "0      1.993333  0.340000  1.010000  ...  0.726667  0.606667  1.010000   \n",
       "1      0.626667  0.810000  0.783333  ...  0.743333  0.680000  0.690000   \n",
       "2      0.836667  0.056667  0.756667  ...  0.820000  0.600000  0.383333   \n",
       "3      0.346667  0.956667  0.633333  ...  0.900000  0.680000  0.846667   \n",
       "4      0.460000  0.853333  0.796667  ...  0.486667  0.693333  0.526667   \n",
       "...         ...       ...       ...  ...       ...       ...       ...   \n",
       "56957  0.340000  0.900000  0.643333  ...  0.433333  0.660000  0.776667   \n",
       "56958  0.650000  0.473333  0.670000  ...  0.870000  0.683333  0.690000   \n",
       "56959  0.316667  0.533333  0.606667  ...  0.063333  0.753333  0.780000   \n",
       "56960  0.226667  0.910000  0.696667  ...  1.026667  0.626667  0.646667   \n",
       "56961  1.870000  0.033333  0.963333  ...  0.670000  0.770000  0.893333   \n",
       "\n",
       "          Cred3     Cred4     Cred5     Cred6  Normalised_FNT  Target   data  \n",
       "0      0.933333  0.603333  0.686667  0.673333       -245.7500     0.0  train  \n",
       "1      0.560000  0.670000  0.553333  0.653333       -248.0000     0.0  train  \n",
       "2      0.763333  0.670000  0.686667  0.673333       -233.1250     0.0  train  \n",
       "3      0.423333  0.520000  0.846667  0.760000       -249.7775     0.0  train  \n",
       "4      0.520000  0.716667  0.706667  0.673333       -247.5775     0.0  train  \n",
       "...         ...       ...       ...       ...             ...     ...    ...  \n",
       "56957  0.610000  0.690000  0.750000  0.700000       -249.5050     NaN   test  \n",
       "56958  0.640000  0.883333  0.663333  0.660000       -248.7525     NaN   test  \n",
       "56959  0.603333  0.880000  0.643333  0.676667       -231.0500     NaN   test  \n",
       "56960  0.566667  0.616667  0.713333  0.706667       -246.3150     NaN   test  \n",
       "56961  0.586667  0.616667  0.683333  0.650000       -248.4500     NaN   test  \n",
       "\n",
       "[284807 rows x 29 columns]"
      ]
     },
     "execution_count": 19,
     "metadata": {},
     "output_type": "execute_result"
    }
   ],
   "source": [
    "all_data\n"
   ]
  },
  {
   "cell_type": "code",
   "execution_count": 20,
   "id": "bc2b4ae3",
   "metadata": {},
   "outputs": [
    {
     "name": "stdout",
     "output_type": "stream",
     "text": [
      "*******************Unique ID to the customer****************\n",
      "geo 284807\n",
      "******************\n",
      "instance 284807\n",
      "******************\n",
      "qset 284807\n",
      "******************\n",
      "all_data 284807\n",
      "******************\n",
      "*******************Unique Group to the customer****************\n",
      "******************\n",
      "lmbda 1400\n",
      "******************\n",
      "test 915\n",
      "******************\n",
      "all_data 1400\n"
     ]
    }
   ],
   "source": [
    "print(\"*******************Unique ID to the customer****************\")\n",
    "print(\"geo\",geo['id'].nunique())\n",
    "print(\"******************\")\n",
    "print(\"instance\", instance['id'].nunique())\n",
    "print(\"******************\")\n",
    "print(\"qset\",qset['id'].nunique())\n",
    "print(\"******************\")\n",
    "print(\"all_data\", all_data['id'].nunique())\n",
    "\n",
    "print(\"******************\")\n",
    "print(\"*******************Unique Group to the customer****************\")\n",
    "print(\"******************\")\n",
    "print(\"lmbda\",lmbda['Group'].nunique())\n",
    "print(\"******************\")\n",
    "print(\"test\",test['Group'].nunique())\n",
    "print(\"******************\")\n",
    "print(\"all_data\",all_data['Group'].nunique())"
   ]
  },
  {
   "cell_type": "code",
   "execution_count": 21,
   "id": "fe3d0af3",
   "metadata": {},
   "outputs": [],
   "source": [
    "geo = geo.groupby('id').mean()\n",
    "instance = instance.groupby('id').mean()\n",
    "qset = qset.groupby('id').mean()\n"
   ]
  },
  {
   "cell_type": "code",
   "execution_count": 22,
   "id": "0ea0b9a1",
   "metadata": {},
   "outputs": [
    {
     "data": {
      "text/plain": [
       "(284807, 1)"
      ]
     },
     "execution_count": 22,
     "metadata": {},
     "output_type": "execute_result"
    }
   ],
   "source": [
    "geo.shape\n",
    "\n"
   ]
  },
  {
   "cell_type": "code",
   "execution_count": 23,
   "id": "c3b25c18",
   "metadata": {},
   "outputs": [
    {
     "data": {
      "text/plain": [
       "(284807, 1)"
      ]
     },
     "execution_count": 23,
     "metadata": {},
     "output_type": "execute_result"
    }
   ],
   "source": [
    "instance.shape"
   ]
  },
  {
   "cell_type": "code",
   "execution_count": 24,
   "id": "e025482d",
   "metadata": {},
   "outputs": [
    {
     "data": {
      "text/plain": [
       "(284807, 1)"
      ]
     },
     "execution_count": 24,
     "metadata": {},
     "output_type": "execute_result"
    }
   ],
   "source": [
    "qset.shape"
   ]
  },
  {
   "cell_type": "code",
   "execution_count": null,
   "id": "d389c7e2",
   "metadata": {},
   "outputs": [],
   "source": []
  },
  {
   "cell_type": "code",
   "execution_count": 25,
   "id": "e3872002",
   "metadata": {},
   "outputs": [],
   "source": [
    "all_data = pd.merge(all_data, lmbda, on='Group', how='left')"
   ]
  },
  {
   "cell_type": "code",
   "execution_count": null,
   "id": "79e2434b",
   "metadata": {},
   "outputs": [],
   "source": []
  },
  {
   "cell_type": "code",
   "execution_count": 26,
   "id": "1f278a2f",
   "metadata": {},
   "outputs": [],
   "source": [
    "all_data = pd.merge(all_data, instance, on='id', how='left')"
   ]
  },
  {
   "cell_type": "code",
   "execution_count": 27,
   "id": "c6ff55f8",
   "metadata": {},
   "outputs": [
    {
     "data": {
      "text/html": [
       "<div>\n",
       "<style scoped>\n",
       "    .dataframe tbody tr th:only-of-type {\n",
       "        vertical-align: middle;\n",
       "    }\n",
       "\n",
       "    .dataframe tbody tr th {\n",
       "        vertical-align: top;\n",
       "    }\n",
       "\n",
       "    .dataframe thead th {\n",
       "        text-align: right;\n",
       "    }\n",
       "</style>\n",
       "<table border=\"1\" class=\"dataframe\">\n",
       "  <thead>\n",
       "    <tr style=\"text-align: right;\">\n",
       "      <th></th>\n",
       "      <th>id</th>\n",
       "      <th>Group</th>\n",
       "      <th>Per1</th>\n",
       "      <th>Per2</th>\n",
       "      <th>Per3</th>\n",
       "      <th>Per4</th>\n",
       "      <th>Per5</th>\n",
       "      <th>Per6</th>\n",
       "      <th>Per7</th>\n",
       "      <th>Per8</th>\n",
       "      <th>...</th>\n",
       "      <th>Cred2</th>\n",
       "      <th>Cred3</th>\n",
       "      <th>Cred4</th>\n",
       "      <th>Cred5</th>\n",
       "      <th>Cred6</th>\n",
       "      <th>Normalised_FNT</th>\n",
       "      <th>Target</th>\n",
       "      <th>data</th>\n",
       "      <th>lambda_wt</th>\n",
       "      <th>instance_scores</th>\n",
       "    </tr>\n",
       "  </thead>\n",
       "  <tbody>\n",
       "    <tr>\n",
       "      <th>0</th>\n",
       "      <td>112751</td>\n",
       "      <td>Grp169</td>\n",
       "      <td>1.070000</td>\n",
       "      <td>0.580000</td>\n",
       "      <td>0.480000</td>\n",
       "      <td>0.766667</td>\n",
       "      <td>1.233333</td>\n",
       "      <td>1.993333</td>\n",
       "      <td>0.340000</td>\n",
       "      <td>1.010000</td>\n",
       "      <td>...</td>\n",
       "      <td>1.010000</td>\n",
       "      <td>0.933333</td>\n",
       "      <td>0.603333</td>\n",
       "      <td>0.686667</td>\n",
       "      <td>0.673333</td>\n",
       "      <td>-245.7500</td>\n",
       "      <td>0.0</td>\n",
       "      <td>train</td>\n",
       "      <td>-0.13</td>\n",
       "      <td>-0.06</td>\n",
       "    </tr>\n",
       "    <tr>\n",
       "      <th>1</th>\n",
       "      <td>18495</td>\n",
       "      <td>Grp161</td>\n",
       "      <td>0.473333</td>\n",
       "      <td>1.206667</td>\n",
       "      <td>0.883333</td>\n",
       "      <td>1.430000</td>\n",
       "      <td>0.726667</td>\n",
       "      <td>0.626667</td>\n",
       "      <td>0.810000</td>\n",
       "      <td>0.783333</td>\n",
       "      <td>...</td>\n",
       "      <td>0.690000</td>\n",
       "      <td>0.560000</td>\n",
       "      <td>0.670000</td>\n",
       "      <td>0.553333</td>\n",
       "      <td>0.653333</td>\n",
       "      <td>-248.0000</td>\n",
       "      <td>0.0</td>\n",
       "      <td>train</td>\n",
       "      <td>0.66</td>\n",
       "      <td>0.52</td>\n",
       "    </tr>\n",
       "    <tr>\n",
       "      <th>2</th>\n",
       "      <td>23915</td>\n",
       "      <td>Grp261</td>\n",
       "      <td>1.130000</td>\n",
       "      <td>0.143333</td>\n",
       "      <td>0.946667</td>\n",
       "      <td>0.123333</td>\n",
       "      <td>0.080000</td>\n",
       "      <td>0.836667</td>\n",
       "      <td>0.056667</td>\n",
       "      <td>0.756667</td>\n",
       "      <td>...</td>\n",
       "      <td>0.383333</td>\n",
       "      <td>0.763333</td>\n",
       "      <td>0.670000</td>\n",
       "      <td>0.686667</td>\n",
       "      <td>0.673333</td>\n",
       "      <td>-233.1250</td>\n",
       "      <td>0.0</td>\n",
       "      <td>train</td>\n",
       "      <td>-0.51</td>\n",
       "      <td>1.56</td>\n",
       "    </tr>\n",
       "    <tr>\n",
       "      <th>3</th>\n",
       "      <td>50806</td>\n",
       "      <td>Grp198</td>\n",
       "      <td>0.636667</td>\n",
       "      <td>1.090000</td>\n",
       "      <td>0.750000</td>\n",
       "      <td>0.940000</td>\n",
       "      <td>0.743333</td>\n",
       "      <td>0.346667</td>\n",
       "      <td>0.956667</td>\n",
       "      <td>0.633333</td>\n",
       "      <td>...</td>\n",
       "      <td>0.846667</td>\n",
       "      <td>0.423333</td>\n",
       "      <td>0.520000</td>\n",
       "      <td>0.846667</td>\n",
       "      <td>0.760000</td>\n",
       "      <td>-249.7775</td>\n",
       "      <td>0.0</td>\n",
       "      <td>train</td>\n",
       "      <td>0.72</td>\n",
       "      <td>0.70</td>\n",
       "    </tr>\n",
       "    <tr>\n",
       "      <th>4</th>\n",
       "      <td>184244</td>\n",
       "      <td>Grp228</td>\n",
       "      <td>0.560000</td>\n",
       "      <td>1.013333</td>\n",
       "      <td>0.593333</td>\n",
       "      <td>0.416667</td>\n",
       "      <td>0.773333</td>\n",
       "      <td>0.460000</td>\n",
       "      <td>0.853333</td>\n",
       "      <td>0.796667</td>\n",
       "      <td>...</td>\n",
       "      <td>0.526667</td>\n",
       "      <td>0.520000</td>\n",
       "      <td>0.716667</td>\n",
       "      <td>0.706667</td>\n",
       "      <td>0.673333</td>\n",
       "      <td>-247.5775</td>\n",
       "      <td>0.0</td>\n",
       "      <td>train</td>\n",
       "      <td>0.60</td>\n",
       "      <td>-0.47</td>\n",
       "    </tr>\n",
       "  </tbody>\n",
       "</table>\n",
       "<p>5 rows × 31 columns</p>\n",
       "</div>"
      ],
      "text/plain": [
       "       id   Group      Per1      Per2      Per3      Per4      Per5      Per6  \\\n",
       "0  112751  Grp169  1.070000  0.580000  0.480000  0.766667  1.233333  1.993333   \n",
       "1   18495  Grp161  0.473333  1.206667  0.883333  1.430000  0.726667  0.626667   \n",
       "2   23915  Grp261  1.130000  0.143333  0.946667  0.123333  0.080000  0.836667   \n",
       "3   50806  Grp198  0.636667  1.090000  0.750000  0.940000  0.743333  0.346667   \n",
       "4  184244  Grp228  0.560000  1.013333  0.593333  0.416667  0.773333  0.460000   \n",
       "\n",
       "       Per7      Per8  ...     Cred2     Cred3     Cred4     Cred5     Cred6  \\\n",
       "0  0.340000  1.010000  ...  1.010000  0.933333  0.603333  0.686667  0.673333   \n",
       "1  0.810000  0.783333  ...  0.690000  0.560000  0.670000  0.553333  0.653333   \n",
       "2  0.056667  0.756667  ...  0.383333  0.763333  0.670000  0.686667  0.673333   \n",
       "3  0.956667  0.633333  ...  0.846667  0.423333  0.520000  0.846667  0.760000   \n",
       "4  0.853333  0.796667  ...  0.526667  0.520000  0.716667  0.706667  0.673333   \n",
       "\n",
       "   Normalised_FNT  Target   data  lambda_wt  instance_scores  \n",
       "0       -245.7500     0.0  train      -0.13            -0.06  \n",
       "1       -248.0000     0.0  train       0.66             0.52  \n",
       "2       -233.1250     0.0  train      -0.51             1.56  \n",
       "3       -249.7775     0.0  train       0.72             0.70  \n",
       "4       -247.5775     0.0  train       0.60            -0.47  \n",
       "\n",
       "[5 rows x 31 columns]"
      ]
     },
     "execution_count": 27,
     "metadata": {},
     "output_type": "execute_result"
    }
   ],
   "source": [
    "all_data.head()"
   ]
  },
  {
   "cell_type": "code",
   "execution_count": null,
   "id": "c7500cfd",
   "metadata": {},
   "outputs": [],
   "source": []
  },
  {
   "cell_type": "code",
   "execution_count": 28,
   "id": "577e03dc",
   "metadata": {},
   "outputs": [],
   "source": [
    "all_data = pd.merge(all_data, qset, on='id', how='left')"
   ]
  },
  {
   "cell_type": "code",
   "execution_count": null,
   "id": "e1829402",
   "metadata": {},
   "outputs": [],
   "source": []
  },
  {
   "cell_type": "code",
   "execution_count": 29,
   "id": "b77d4739",
   "metadata": {},
   "outputs": [
    {
     "data": {
      "text/plain": [
       "1400"
      ]
     },
     "execution_count": 29,
     "metadata": {},
     "output_type": "execute_result"
    }
   ],
   "source": [
    "all_data['Group'].nunique()"
   ]
  },
  {
   "cell_type": "code",
   "execution_count": 30,
   "id": "3a1851d0",
   "metadata": {},
   "outputs": [
    {
     "data": {
      "text/plain": [
       "1400"
      ]
     },
     "execution_count": 30,
     "metadata": {},
     "output_type": "execute_result"
    }
   ],
   "source": [
    "lmbda['Group'].nunique()"
   ]
  },
  {
   "cell_type": "code",
   "execution_count": 31,
   "id": "86108fe8",
   "metadata": {},
   "outputs": [],
   "source": [
    "all_data = pd.merge(all_data, geo, on='id', how='left')"
   ]
  },
  {
   "cell_type": "code",
   "execution_count": 32,
   "id": "ef556c5a",
   "metadata": {},
   "outputs": [
    {
     "data": {
      "text/plain": [
       "(284807, 33)"
      ]
     },
     "execution_count": 32,
     "metadata": {},
     "output_type": "execute_result"
    }
   ],
   "source": [
    "all_data.shape"
   ]
  },
  {
   "cell_type": "code",
   "execution_count": 33,
   "id": "fbc697c0",
   "metadata": {},
   "outputs": [],
   "source": [
    "train = all_data[all_data['data']=='train']\n",
    "test = all_data[all_data['data']=='test']"
   ]
  },
  {
   "cell_type": "code",
   "execution_count": 34,
   "id": "e6ff9d94",
   "metadata": {},
   "outputs": [
    {
     "data": {
      "text/plain": [
       "(227845, 33)"
      ]
     },
     "execution_count": 34,
     "metadata": {},
     "output_type": "execute_result"
    }
   ],
   "source": [
    "train.shape"
   ]
  },
  {
   "cell_type": "code",
   "execution_count": 35,
   "id": "1f9ac077",
   "metadata": {},
   "outputs": [
    {
     "data": {
      "text/plain": [
       "(56962, 33)"
      ]
     },
     "execution_count": 35,
     "metadata": {},
     "output_type": "execute_result"
    }
   ],
   "source": [
    "test.shape"
   ]
  },
  {
   "cell_type": "code",
   "execution_count": 36,
   "id": "64b4bc01",
   "metadata": {},
   "outputs": [
    {
     "data": {
      "text/plain": [
       "Index(['id', 'Group', 'Per1', 'Per2', 'Per3', 'Per4', 'Per5', 'Per6', 'Per7',\n",
       "       'Per8', 'Per9', 'Dem1', 'Dem2', 'Dem3', 'Dem4', 'Dem5', 'Dem6', 'Dem7',\n",
       "       'Dem8', 'Dem9', 'Cred1', 'Cred2', 'Cred3', 'Cred4', 'Cred5', 'Cred6',\n",
       "       'Normalised_FNT', 'Target', 'data', 'lambda_wt', 'instance_scores',\n",
       "       'qsets_normalized_tat', 'geo_score'],\n",
       "      dtype='object')"
      ]
     },
     "execution_count": 36,
     "metadata": {},
     "output_type": "execute_result"
    }
   ],
   "source": [
    "test.columns"
   ]
  },
  {
   "cell_type": "code",
   "execution_count": 37,
   "id": "27086784",
   "metadata": {},
   "outputs": [],
   "source": [
    "train = train.drop(['id','data'],axis=1) # Building a model\n",
    "test = test.drop(['id','data'],axis=1) # Prediction and final result"
   ]
  },
  {
   "cell_type": "code",
   "execution_count": 38,
   "id": "a71d3d70",
   "metadata": {},
   "outputs": [
    {
     "data": {
      "text/plain": [
       "Index(['Group', 'Per1', 'Per2', 'Per3', 'Per4', 'Per5', 'Per6', 'Per7', 'Per8',\n",
       "       'Per9', 'Dem1', 'Dem2', 'Dem3', 'Dem4', 'Dem5', 'Dem6', 'Dem7', 'Dem8',\n",
       "       'Dem9', 'Cred1', 'Cred2', 'Cred3', 'Cred4', 'Cred5', 'Cred6',\n",
       "       'Normalised_FNT', 'lambda_wt', 'instance_scores',\n",
       "       'qsets_normalized_tat', 'geo_score'],\n",
       "      dtype='object')"
      ]
     },
     "execution_count": 38,
     "metadata": {},
     "output_type": "execute_result"
    }
   ],
   "source": [
    "test = test.drop(['Target'], axis=1)\n",
    "test.columns"
   ]
  },
  {
   "cell_type": "code",
   "execution_count": 39,
   "id": "da07ac78",
   "metadata": {},
   "outputs": [],
   "source": [
    "unseen_test_data = test.copy()"
   ]
  },
  {
   "cell_type": "code",
   "execution_count": 40,
   "id": "208779a7",
   "metadata": {},
   "outputs": [
    {
     "name": "stdout",
     "output_type": "stream",
     "text": [
      "<class 'pandas.core.frame.DataFrame'>\n",
      "Int64Index: 56962 entries, 227845 to 284806\n",
      "Data columns (total 30 columns):\n",
      " #   Column                Non-Null Count  Dtype  \n",
      "---  ------                --------------  -----  \n",
      " 0   Group                 56962 non-null  object \n",
      " 1   Per1                  56962 non-null  float64\n",
      " 2   Per2                  56962 non-null  float64\n",
      " 3   Per3                  56962 non-null  float64\n",
      " 4   Per4                  56962 non-null  float64\n",
      " 5   Per5                  56962 non-null  float64\n",
      " 6   Per6                  56962 non-null  float64\n",
      " 7   Per7                  56962 non-null  float64\n",
      " 8   Per8                  56962 non-null  float64\n",
      " 9   Per9                  56962 non-null  float64\n",
      " 10  Dem1                  56962 non-null  float64\n",
      " 11  Dem2                  56962 non-null  float64\n",
      " 12  Dem3                  56962 non-null  float64\n",
      " 13  Dem4                  56962 non-null  float64\n",
      " 14  Dem5                  56962 non-null  float64\n",
      " 15  Dem6                  56962 non-null  float64\n",
      " 16  Dem7                  56962 non-null  float64\n",
      " 17  Dem8                  56962 non-null  float64\n",
      " 18  Dem9                  56962 non-null  float64\n",
      " 19  Cred1                 56962 non-null  float64\n",
      " 20  Cred2                 56962 non-null  float64\n",
      " 21  Cred3                 56962 non-null  float64\n",
      " 22  Cred4                 56962 non-null  float64\n",
      " 23  Cred5                 56962 non-null  float64\n",
      " 24  Cred6                 56962 non-null  float64\n",
      " 25  Normalised_FNT        56962 non-null  float64\n",
      " 26  lambda_wt             56962 non-null  float64\n",
      " 27  instance_scores       56962 non-null  float64\n",
      " 28  qsets_normalized_tat  56962 non-null  float64\n",
      " 29  geo_score             56962 non-null  float64\n",
      "dtypes: float64(29), object(1)\n",
      "memory usage: 13.5+ MB\n"
     ]
    }
   ],
   "source": [
    "unseen_test_data.info()\n",
    "#here group has object data type so we gave to convert in to category then convert in to numbers."
   ]
  },
  {
   "cell_type": "code",
   "execution_count": 41,
   "id": "c3cacf69",
   "metadata": {},
   "outputs": [
    {
     "data": {
      "text/plain": [
       "<bound method NDFrame.head of          Group      Per1      Per2      Per3      Per4      Per5      Per6  \\\n",
       "227845  Grp229 -0.300000  1.540000  0.220000 -0.280000  0.570000  0.260000   \n",
       "227846  Grp141  0.633333  0.953333  0.810000  0.466667  0.910000  0.253333   \n",
       "227847  Grp188  1.043333  0.740000  0.860000  1.006667  0.583333  0.616667   \n",
       "227848  Grp426  1.283333  0.300000  0.576667  0.636667  0.256667  0.543333   \n",
       "227849  Grp443  1.186667  0.326667  0.476667  0.866667  0.436667  0.680000   \n",
       "...        ...       ...       ...       ...       ...       ...       ...   \n",
       "284802  Grp102  0.553333  1.043333  1.096667  0.686667  0.673333  0.340000   \n",
       "284803  Grp504  1.353333  0.616667  0.276667  0.783333  0.690000  0.650000   \n",
       "284804   Grp78  1.083333  0.433333  0.806667  0.490000  0.243333  0.316667   \n",
       "284805  Grp134  0.566667  1.153333  0.370000  0.616667  0.793333  0.226667   \n",
       "284806   Grp18  1.426667  0.110000 -0.006667 -0.200000  0.983333  1.870000   \n",
       "\n",
       "            Per7      Per8      Per9  ...     Cred2     Cred3     Cred4  \\\n",
       "227845  0.700000  1.076667  0.930000  ...  0.813333  0.776667  0.796667   \n",
       "227846  1.040000  0.550000  0.543333  ...  0.703333  0.806667  0.630000   \n",
       "227847  0.630000  0.686667  0.593333  ...  0.753333  0.870000  0.596667   \n",
       "227848  0.356667  0.663333  1.156667  ...  0.606667  0.456667  0.320000   \n",
       "227849  0.476667  0.686667  1.476667  ...  0.896667  0.566667  0.546667   \n",
       "...          ...       ...       ...  ...       ...       ...       ...   \n",
       "284802  0.900000  0.643333  0.543333  ...  0.776667  0.610000  0.690000   \n",
       "284803  0.473333  0.670000  1.023333  ...  0.690000  0.640000  0.883333   \n",
       "284804  0.533333  0.606667  0.420000  ...  0.780000  0.603333  0.880000   \n",
       "284805  0.910000  0.696667  0.600000  ...  0.646667  0.566667  0.616667   \n",
       "284806  0.033333  0.963333  0.266667  ...  0.893333  0.586667  0.616667   \n",
       "\n",
       "           Cred5     Cred6  Normalised_FNT  lambda_wt  instance_scores  \\\n",
       "227845  0.823333  0.783333       -249.7500       0.76            -0.04   \n",
       "227846  0.673333  0.673333       -249.8125       0.18            -0.77   \n",
       "227847  0.680000  0.670000       -248.1200       0.39             0.11   \n",
       "227848  0.676667  0.660000       -222.9875       1.80             0.33   \n",
       "227849  0.650000  0.663333       -196.2200       1.89            -0.37   \n",
       "...          ...       ...             ...        ...              ...   \n",
       "284802  0.750000  0.700000       -249.5050      -0.40            -0.51   \n",
       "284803  0.663333  0.660000       -248.7525      -1.54            -0.46   \n",
       "284804  0.643333  0.676667       -231.0500       0.29             0.65   \n",
       "284805  0.713333  0.706667       -246.3150      -0.69            -0.92   \n",
       "284806  0.683333  0.650000       -248.4500      -0.37             1.57   \n",
       "\n",
       "        qsets_normalized_tat  geo_score  \n",
       "227845                -0.426      0.250  \n",
       "227846                -0.620      0.430  \n",
       "227847                -0.406      1.320  \n",
       "227848                 0.374     -2.110  \n",
       "227849                -0.130     -2.110  \n",
       "...                      ...        ...  \n",
       "284802                 0.010     -0.114  \n",
       "284803                 0.064      0.110  \n",
       "284804                -0.020     -0.530  \n",
       "284805                 0.610      0.270  \n",
       "284806                 0.354     -0.664  \n",
       "\n",
       "[56962 rows x 30 columns]>"
      ]
     },
     "execution_count": 41,
     "metadata": {},
     "output_type": "execute_result"
    }
   ],
   "source": [
    "unseen_test_data.head"
   ]
  },
  {
   "cell_type": "code",
   "execution_count": 42,
   "id": "7a2eb308",
   "metadata": {},
   "outputs": [
    {
     "data": {
      "text/plain": [
       "227845    277\n",
       "227846    180\n",
       "227847    231\n",
       "227848    485\n",
       "227849    504\n",
       "         ... \n",
       "284802     11\n",
       "284803    569\n",
       "284804    765\n",
       "284805    163\n",
       "284806    222\n",
       "Name: Group, Length: 56962, dtype: int16"
      ]
     },
     "execution_count": 42,
     "metadata": {},
     "output_type": "execute_result"
    }
   ],
   "source": [
    "unseen_test_data['Group'] = unseen_test_data['Group'].astype('category')\n",
    "unseen_test_data['Group'] = unseen_test_data['Group'].cat.codes\n",
    "unseen_test_data['Group']"
   ]
  },
  {
   "cell_type": "code",
   "execution_count": 43,
   "id": "20864daf",
   "metadata": {},
   "outputs": [],
   "source": [
    "train['Group'] = train['Group'].astype('category')\n",
    "train['Group'] = train['Group'].cat.codes"
   ]
  },
  {
   "cell_type": "code",
   "execution_count": 44,
   "id": "7695403a",
   "metadata": {},
   "outputs": [],
   "source": [
    "x = train.drop(['Target'], axis=1)\n",
    "y = train['Target']"
   ]
  },
  {
   "cell_type": "code",
   "execution_count": 45,
   "id": "8312fba3",
   "metadata": {},
   "outputs": [
    {
     "data": {
      "text/plain": [
       "0.0    0.998271\n",
       "1.0    0.001729\n",
       "Name: Target, dtype: float64"
      ]
     },
     "execution_count": 45,
     "metadata": {},
     "output_type": "execute_result"
    }
   ],
   "source": [
    "y.value_counts(normalize=True)"
   ]
  },
  {
   "cell_type": "code",
   "execution_count": 46,
   "id": "e97c2a5d",
   "metadata": {},
   "outputs": [
    {
     "data": {
      "text/plain": [
       "0.0    227451\n",
       "1.0       394\n",
       "Name: Target, dtype: int64"
      ]
     },
     "execution_count": 46,
     "metadata": {},
     "output_type": "execute_result"
    }
   ],
   "source": [
    "train['Target'].value_counts()"
   ]
  },
  {
   "cell_type": "code",
   "execution_count": 47,
   "id": "bc0a99d1",
   "metadata": {},
   "outputs": [],
   "source": [
    "# split the data into training and testing\n",
    "x_train, x_test, y_train, y_test = train_test_split(x,y, test_size=0.2, random_state=101,stratify=y)"
   ]
  },
  {
   "cell_type": "code",
   "execution_count": 48,
   "id": "352d34d0",
   "metadata": {},
   "outputs": [
    {
     "data": {
      "text/plain": [
       "0.0    181961\n",
       "1.0       315\n",
       "Name: Target, dtype: int64"
      ]
     },
     "execution_count": 48,
     "metadata": {},
     "output_type": "execute_result"
    }
   ],
   "source": [
    "y_train.value_counts()"
   ]
  },
  {
   "cell_type": "code",
   "execution_count": 49,
   "id": "b3c98b03",
   "metadata": {},
   "outputs": [
    {
     "data": {
      "text/plain": [
       "0.0    45490\n",
       "1.0       79\n",
       "Name: Target, dtype: int64"
      ]
     },
     "execution_count": 49,
     "metadata": {},
     "output_type": "execute_result"
    }
   ],
   "source": [
    "y_test.value_counts()"
   ]
  },
  {
   "cell_type": "code",
   "execution_count": 50,
   "id": "cc93cdda",
   "metadata": {},
   "outputs": [
    {
     "data": {
      "text/plain": [
       "RandomForestClassifier()"
      ]
     },
     "execution_count": 50,
     "metadata": {},
     "output_type": "execute_result"
    }
   ],
   "source": [
    "# Building Model\n",
    "from sklearn.ensemble import RandomForestClassifier\n",
    "rfmodel = RandomForestClassifier()\n",
    "rfmodel.fit(x_train, y_train)"
   ]
  },
  {
   "cell_type": "code",
   "execution_count": 51,
   "id": "be3f331f",
   "metadata": {},
   "outputs": [],
   "source": [
    "y_pred_train = rfmodel.predict(x_train)\n",
    "y_pred_test = rfmodel.predict(x_test)"
   ]
  },
  {
   "cell_type": "code",
   "execution_count": 52,
   "id": "eec40114",
   "metadata": {},
   "outputs": [],
   "source": [
    "from sklearn.metrics import classification_report, accuracy_score"
   ]
  },
  {
   "cell_type": "code",
   "execution_count": 53,
   "id": "9b0c0399",
   "metadata": {},
   "outputs": [
    {
     "name": "stdout",
     "output_type": "stream",
     "text": [
      "              precision    recall  f1-score   support\n",
      "\n",
      "         0.0       1.00      1.00      1.00    181961\n",
      "         1.0       1.00      1.00      1.00       315\n",
      "\n",
      "    accuracy                           1.00    182276\n",
      "   macro avg       1.00      1.00      1.00    182276\n",
      "weighted avg       1.00      1.00      1.00    182276\n",
      "\n",
      "*****************\n",
      "              precision    recall  f1-score   support\n",
      "\n",
      "         0.0       1.00      1.00      1.00     45490\n",
      "         1.0       0.97      0.71      0.82        79\n",
      "\n",
      "    accuracy                           1.00     45569\n",
      "   macro avg       0.98      0.85      0.91     45569\n",
      "weighted avg       1.00      1.00      1.00     45569\n",
      "\n"
     ]
    }
   ],
   "source": [
    "print(classification_report(y_train, y_pred_train))\n",
    "print(\"*****************\")\n",
    "print(classification_report(y_test, y_pred_test))"
   ]
  },
  {
   "cell_type": "code",
   "execution_count": 54,
   "id": "1fec2d00",
   "metadata": {},
   "outputs": [
    {
     "name": "stdout",
     "output_type": "stream",
     "text": [
      "1.0\n",
      "*****************\n",
      "0.9994513814215804\n"
     ]
    }
   ],
   "source": [
    "print(accuracy_score(y_train, y_pred_train))\n",
    "print(\"*****************\")\n",
    "print(accuracy_score(y_test, y_pred_test))"
   ]
  },
  {
   "cell_type": "code",
   "execution_count": 55,
   "id": "68613d2f",
   "metadata": {},
   "outputs": [],
   "source": [
    "final_output = rfmodel.predict(unseen_test_data)"
   ]
  },
  {
   "cell_type": "code",
   "execution_count": 56,
   "id": "4a0f4906",
   "metadata": {},
   "outputs": [
    {
     "data": {
      "text/plain": [
       "array([0., 0., 0., ..., 0., 0., 0.])"
      ]
     },
     "execution_count": 56,
     "metadata": {},
     "output_type": "execute_result"
    }
   ],
   "source": [
    "final_output"
   ]
  },
  {
   "cell_type": "code",
   "execution_count": 57,
   "id": "388e44b0",
   "metadata": {},
   "outputs": [
    {
     "data": {
      "text/plain": [
       "RangeIndex(start=0, stop=1, step=1)"
      ]
     },
     "execution_count": 57,
     "metadata": {},
     "output_type": "execute_result"
    }
   ],
   "source": [
    "final_output = pd.DataFrame(final_output)\n",
    "final_output.columns"
   ]
  },
  {
   "cell_type": "code",
   "execution_count": 58,
   "id": "23e340b2",
   "metadata": {},
   "outputs": [
    {
     "data": {
      "text/plain": [
       "(56962, 30)"
      ]
     },
     "execution_count": 58,
     "metadata": {},
     "output_type": "execute_result"
    }
   ],
   "source": [
    "unseen_test_data.shape"
   ]
  },
  {
   "cell_type": "code",
   "execution_count": 59,
   "id": "24aae0e3",
   "metadata": {},
   "outputs": [
    {
     "data": {
      "text/plain": [
       "(56962, 1)"
      ]
     },
     "execution_count": 59,
     "metadata": {},
     "output_type": "execute_result"
    }
   ],
   "source": [
    "final_output.shape"
   ]
  },
  {
   "cell_type": "code",
   "execution_count": 60,
   "id": "bc1785e7",
   "metadata": {},
   "outputs": [],
   "source": [
    "final_output.to_csv(\"Final_Target_Value.csv\")\n",
    "# here we do these code -: it create a new file in this jupiternote book on the name of given data."
   ]
  },
  {
   "cell_type": "code",
   "execution_count": 61,
   "id": "119d1732",
   "metadata": {},
   "outputs": [
    {
     "data": {
      "text/plain": [
       "0.0    56882\n",
       "1.0       80\n",
       "dtype: int64"
      ]
     },
     "execution_count": 61,
     "metadata": {},
     "output_type": "execute_result"
    }
   ],
   "source": [
    "final_output.value_counts()"
   ]
  },
  {
   "cell_type": "code",
   "execution_count": 62,
   "id": "e41cf566",
   "metadata": {},
   "outputs": [
    {
     "name": "stdout",
     "output_type": "stream",
     "text": [
      "['Group', 'Per1', 'Per2', 'Per3', 'Per4', 'Per5', 'Per6', 'Per7', 'Per8', 'Per9', 'Dem1', 'Dem2', 'Dem3', 'Dem4', 'Dem5', 'Dem6', 'Dem7', 'Dem8', 'Dem9', 'Cred1', 'Cred2', 'Cred3', 'Cred4', 'Cred5', 'Cred6', 'Normalised_FNT', 'lambda_wt', 'instance_scores', 'qsets_normalized_tat', 'geo_score']\n"
     ]
    }
   ],
   "source": [
    "print( list(unseen_test_data.columns))"
   ]
  },
  {
   "cell_type": "markdown",
   "id": "fae5a5d6",
   "metadata": {},
   "source": [
    "# pickling the model file for deployment"
   ]
  },
  {
   "cell_type": "code",
   "execution_count": 63,
   "id": "14c4413b",
   "metadata": {},
   "outputs": [],
   "source": [
    "import pickle"
   ]
  },
  {
   "cell_type": "code",
   "execution_count": 64,
   "id": "58265b0f",
   "metadata": {},
   "outputs": [],
   "source": [
    "pickle.dump(rfmodel, open('rfmodel.pkl', 'wb'))"
   ]
  },
  {
   "cell_type": "code",
   "execution_count": 65,
   "id": "4eca5d7d",
   "metadata": {},
   "outputs": [],
   "source": [
    "pickled_model=pickle.load(open('rfmodel.pkl', 'rb'))"
   ]
  },
  {
   "cell_type": "code",
   "execution_count": 66,
   "id": "86926e81",
   "metadata": {},
   "outputs": [
    {
     "data": {
      "text/plain": [
       "array([0., 0., 0., ..., 0., 0., 0.])"
      ]
     },
     "execution_count": 66,
     "metadata": {},
     "output_type": "execute_result"
    }
   ],
   "source": [
    "pickled_model.predict(unseen_test_data)"
   ]
  },
  {
   "cell_type": "code",
   "execution_count": 67,
   "id": "40a554cb",
   "metadata": {},
   "outputs": [
    {
     "name": "stdout",
     "output_type": "stream",
     "text": [
      "['Group', 'Per1', 'Per2', 'Per3', 'Per4', 'Per5', 'Per6', 'Per7', 'Per8', 'Per9', 'Dem1', 'Dem2', 'Dem3', 'Dem4', 'Dem5', 'Dem6', 'Dem7', 'Dem8', 'Dem9', 'Cred1', 'Cred2', 'Cred3', 'Cred4', 'Cred5', 'Cred6', 'Normalised_FNT', 'lambda_wt', 'instance_scores', 'qsets_normalized_tat', 'geo_score']\n"
     ]
    }
   ],
   "source": [
    "\n",
    "print( list(unseen_test_data.columns))"
   ]
  },
  {
   "cell_type": "code",
   "execution_count": null,
   "id": "aedaeb6b",
   "metadata": {},
   "outputs": [],
   "source": []
  },
  {
   "cell_type": "code",
   "execution_count": null,
   "id": "c95c0f86",
   "metadata": {},
   "outputs": [],
   "source": []
  }
 ],
 "metadata": {
  "kernelspec": {
   "display_name": "Python 3 (ipykernel)",
   "language": "python",
   "name": "python3"
  },
  "language_info": {
   "codemirror_mode": {
    "name": "ipython",
    "version": 3
   },
   "file_extension": ".py",
   "mimetype": "text/x-python",
   "name": "python",
   "nbconvert_exporter": "python",
   "pygments_lexer": "ipython3",
   "version": "3.9.12"
  }
 },
 "nbformat": 4,
 "nbformat_minor": 5
}
